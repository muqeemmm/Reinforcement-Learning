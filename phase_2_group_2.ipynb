{
 "cells": [
  {
   "cell_type": "code",
   "execution_count": 2,
   "metadata": {
    "colab": {
     "base_uri": "https://localhost:8080/"
    },
    "id": "VcZpDIty-tAB",
    "outputId": "5a94b1df-d89d-456c-b6de-ace9d0a6b950"
   },
   "outputs": [],
   "source": [
    "# from google.colab import drive\n",
    "\n",
    "import numpy as np\n",
    "import matplotlib.pyplot as plt\n",
    "import math\n",
    "import random\n",
    "import copy\n",
    "import json\n",
    "\n",
    "# drive.mount('/content/drive')\n",
    "\n",
    "# Specifying the path to JSON files\n",
    "Q_path = 'phase_2_Q_table.json'\n",
    "policy_1_path = 'phase_2_policy_player_1.json'\n",
    "policy_2_path = 'phase_2_policy_player_2.json'"
   ]
  },
  {
   "cell_type": "code",
   "execution_count": 3,
   "metadata": {
    "id": "lbu_U4DW-tAD"
   },
   "outputs": [],
   "source": [
    "class TicTacToe:\n",
    "    def __init__(self):\n",
    "        self.board = [[\" \" for _ in range(4)] for _ in range(4)]\n",
    "        self.current_player = -1\n",
    "\n",
    "\n",
    "    def check_draw(self):\n",
    "        for row in self.board:\n",
    "            if \" \" in row:\n",
    "                return False\n",
    "        return True\n",
    "\n",
    "    def print_board(self):\n",
    "        # Prints a GUI-like representation of the board\n",
    "        print(\"┌───┬───┬───┬───┐\")\n",
    "        for i, row in enumerate(self.board):\n",
    "            print(\"│ \" + \" │ \".join(row) + \" │\")\n",
    "            if i < 3:\n",
    "                print(\"├───┼───┼───┼───┤\")\n",
    "        print(\"└───┴───┴───┴───┘\")\n",
    "\n",
    "    def check_winner(self, player):\n",
    "        for row in self.board:\n",
    "            if all([cell == player for cell in row]):\n",
    "                return True\n",
    "        for col in range(4):\n",
    "            if all([self.board[row][col] == player for row in range(4)]):\n",
    "                return True\n",
    "        if all([self.board[i][i] == player for i in range(4)]) or all(\n",
    "            [self.board[i][3 - i] == player for i in range(4)]\n",
    "        ):\n",
    "            return True\n",
    "        return False\n",
    "\n",
    "    def step(self, state):\n",
    "        row = int(state / 4)\n",
    "        col = int(state % 4)\n",
    "\n",
    "        current_player_symbol = \" \"\n",
    "        if self.current_player == -1:\n",
    "            current_player_symbol = \"X\"\n",
    "        else:\n",
    "            current_player_symbol = \"O\"\n",
    "\n",
    "        if self.board[row][col] == \" \":\n",
    "            self.board[row][col] = current_player_symbol\n",
    "\n",
    "        if self.check_winner(\"O\"):\n",
    "            return self.board, self.current_player, True, 1\n",
    "        elif self.check_winner(\"X\"):\n",
    "            return self.board, self.current_player, True, -1\n",
    "        elif self.check_draw():\n",
    "            return self.board, self.current_player, True, 0\n",
    "\n",
    "        self.current_player *= -1\n",
    "\n",
    "        return self.board, self.current_player, False, 0"
   ]
  },
  {
   "cell_type": "code",
   "execution_count": 4,
   "metadata": {
    "id": "s3AAPEWs-tAE"
   },
   "outputs": [],
   "source": [
    "# Helper function to choose random action for the agent\n",
    "def rand_policy(board):\n",
    "\n",
    "    possible_actions = []\n",
    "\n",
    "    for i in range(4):\n",
    "        for j in range(4):\n",
    "            if board[i][j] == \" \":\n",
    "                possible_actions.append(i * 4 + j)\n",
    "\n",
    "    return random.choice(possible_actions)\n",
    "\n",
    "# Helper function to add a new state discovered by the agent\n",
    "def add_new_state(Q_table, board):\n",
    "    possible_actions = []\n",
    "    for i in range(4):\n",
    "        for j in range(4):\n",
    "            if board[i][j] == \" \":\n",
    "                possible_actions.append(i * 4 + j)\n",
    "\n",
    "    possible_actions = dict.fromkeys(possible_actions, 0.0)\n",
    "    board = tuple(map(tuple, board))\n",
    "\n",
    "    Q_table[board] = possible_actions\n",
    "\n",
    "    return Q_table\n",
    "\n",
    "# Helper function for action selection using epsilon greedy\n",
    "def epsilon_greedy(Q_table, state, player, epsilon):\n",
    "    state =  tuple(map(tuple, state))\n",
    "    rand = random.uniform(0, 1)\n",
    "    if rand > epsilon:\n",
    "        if player == 1:\n",
    "            action = max(Q_table[state], key=Q_table[state].get)\n",
    "        elif player == -1:\n",
    "            action = min(Q_table[state], key=Q_table[state].get)\n",
    "    else:\n",
    "        action = random.choice(list(Q_table[state].keys()))\n",
    "\n",
    "    return action\n",
    "\n",
    "# Helper funtion for epsilon decay\n",
    "def get_epsilon(epsilon, iter, total_iterations, explore_exploit_ratio, min_epsilon, max_epsilon, decay_factor):\n",
    "    cutoff = explore_exploit_ratio * total_iterations\n",
    "    if iter < cutoff:\n",
    "        epsilon = max_epsilon\n",
    "    else:\n",
    "        epsilon = (min_epsilon - max_epsilon) * ((iter - cutoff)/ (total_iterations - cutoff)) ** decay_factor + max_epsilon\n",
    "    return epsilon\n",
    "\n",
    "# Helper function to retrieve the policy for Player 1 from Q table\n",
    "def get_policy_player_1(Q):\n",
    "    policy = {}\n",
    "    for state, actions in Q.items():\n",
    "\n",
    "        len_X = sum(row.count('X') for row in state)\n",
    "        len_O = sum(row.count('O') for row in state)\n",
    "\n",
    "        if len_X <= len_O:\n",
    "            if all(value == 0.0 for value in actions.values()):\n",
    "                policy[state] = int(random.choice(list(actions.keys())))\n",
    "            else:\n",
    "                policy[state] = int(min(actions, key=actions.get))\n",
    "\n",
    "    return policy\n",
    "\n",
    "# Helper function to retrieve the policy for Player 2 from Q table\n",
    "def get_policy_player_2(Q):\n",
    "    policy = {}\n",
    "    for state, actions in Q.items():\n",
    "\n",
    "        len_X = sum(row.count('X') for row in state)\n",
    "        len_O = sum(row.count('O') for row in state)\n",
    "\n",
    "        if len_X > len_O:\n",
    "            if all(value == 0.0 for value in actions.values()):\n",
    "                policy[state] = int(random.choice(list(actions.keys())))\n",
    "            else:\n",
    "                policy[state] = int(max(actions, key=actions.get))\n",
    "\n",
    "    return policy"
   ]
  },
  {
   "cell_type": "code",
   "execution_count": 5,
   "metadata": {
    "id": "OFL2FP3s5Tij"
   },
   "outputs": [],
   "source": [
    "# Function to convert tuples to strings\n",
    "def tuple_to_string(t):\n",
    "    return str(t)\n",
    "\n",
    "# Function to write files in directory\n",
    "def write_file(path, table):\n",
    "    serialized_table = {tuple_to_string(key): value for key, value in table.items()}\n",
    "\n",
    "    with open(path, 'w') as w_file:\n",
    "        json.dump(serialized_table, w_file, indent=2)\n",
    "\n",
    "# Function to read files in directory\n",
    "def read_file(path):\n",
    "    with open(path, 'r') as r_file:\n",
    "        table = json.load(r_file)\n",
    "\n",
    "    # Convert string keys back to tuples\n",
    "    table = {tuple(eval(key)): value for key, value in table.items()}\n",
    "    return table"
   ]
  },
  {
   "cell_type": "code",
   "execution_count": 38,
   "metadata": {
    "id": "nFXhChIq7eHp"
   },
   "outputs": [],
   "source": [
    "# Function to run Q-Learning using TD(0) rule\n",
    "def run_q_learning(N, max_epsilon, min_epsilon, decay_factor, gamma, alpha_decay, ee_ratio):\n",
    "    Q = {}\n",
    "    state = [[\" \" for _ in range(4)] for _ in range(4)]\n",
    "    Q = add_new_state(Q, state)\n",
    "\n",
    "    epsilon = max_epsilon\n",
    "    alpha = 0.7\n",
    "\n",
    "    for i in range(N):\n",
    "        tictactoe = TicTacToe()\n",
    "        state_1 = [[\" \" for _ in range(4)] for _ in range(4)]\n",
    "        s_1 =  tuple(map(tuple, state_1))\n",
    "        terminated = False\n",
    "\n",
    "        for j in range(8):\n",
    "            if terminated:\n",
    "                break\n",
    "\n",
    "            for turn in [-1, 1]:\n",
    "                if not terminated:\n",
    "                    if turn == -1:\n",
    "                        u_1 = epsilon_greedy(Q, state_1, turn, epsilon)\n",
    "\n",
    "                        if j == 0:\n",
    "                            state_2, _, terminated, reward_1 = tictactoe.step(u_1)\n",
    "                            s_2 = tuple(map(tuple, state_2))\n",
    "                            if not s_2 in Q:\n",
    "                                Q = add_new_state(Q, state_2)\n",
    "                        else:\n",
    "                            next_state_2, _, terminated, reward_1 = tictactoe.step(u_1)\n",
    "                            ns_2 = tuple(map(tuple, next_state_2))\n",
    "                            s2 = s_2\n",
    "\n",
    "                            if not (ns_2 in Q or terminated):\n",
    "                                Q = add_new_state(Q, next_state_2)\n",
    "\n",
    "                            state_2 = copy.deepcopy(next_state_2)\n",
    "                            s_2 = tuple(map(tuple, state_2))\n",
    "\n",
    "                            if terminated and reward_1 == -1:\n",
    "                                Q[s_1][u_1] = (1 - alpha) * Q[s_1][u_1] + alpha * reward_1\n",
    "\n",
    "                    elif turn == 1:\n",
    "                        u_2 = epsilon_greedy(Q, state_2, turn, epsilon)\n",
    "\n",
    "                        next_state_1, _, terminated, reward_2 = tictactoe.step(u_2)\n",
    "                        ns_1 = tuple(map(tuple, next_state_1))\n",
    "                        s1 = s_1\n",
    "\n",
    "                        if not (ns_1 in Q or terminated):\n",
    "                            Q = add_new_state(Q, next_state_1)\n",
    "\n",
    "                        state_1 = copy.deepcopy(next_state_1)\n",
    "                        s_1 = tuple(map(tuple, state_1))\n",
    "\n",
    "                        if terminated and reward_2 == 1:\n",
    "                            Q[s_2][u_2] = (1 - alpha) * Q[s_2][u_2] + alpha * reward_2\n",
    "\n",
    "            if not terminated:\n",
    "                if ns_1 in Q:\n",
    "                    Q[s1][u_1] = (1 - alpha) * Q[s1][u_1] + alpha * gamma * min(Q[ns_1].values())\n",
    "\n",
    "                if j != 0:\n",
    "                    if ns_2 in Q:\n",
    "                        Q[s2][u_2] = (1 - alpha) * Q[s2][u_2] + alpha * gamma * max(Q[ns_2].values())\n",
    "\n",
    "        alpha = alpha_decay * alpha\n",
    "        epsilon = get_epsilon(epsilon, i, N, ee_ratio, min_epsilon, max_epsilon, decay_factor)\n",
    "\n",
    "    return Q"
   ]
  },
  {
   "cell_type": "code",
   "execution_count": 39,
   "metadata": {
    "id": "cM_Mr3AK6LfF"
   },
   "outputs": [],
   "source": [
    "# Perform Q-learning with the following hyper-parameters\n",
    "N = 4000000\n",
    "max_epsilon = 1.0\n",
    "min_epsilon = 0.01\n",
    "decay_factor = 0.5\n",
    "gamma = 0.999\n",
    "alpha_decay = 0.9999993\n",
    "ee_ratio = 0.75\n",
    "\n",
    "Q = run_q_learning(N, max_epsilon, min_epsilon, decay_factor, gamma, alpha_decay, ee_ratio)\n",
    "\n",
    "# Save the Q table in directory\n",
    "write_file(Q_path, Q)"
   ]
  },
  {
   "cell_type": "code",
   "execution_count": 38,
   "metadata": {
    "id": "T-4UfJ2l_buD"
   },
   "outputs": [
    {
     "data": {
      "image/png": "[encoded data removed]",
      "text/plain": [
       "<Figure size 640x480 with 1 Axes>"
      ]
     },
     "metadata": {},
     "output_type": "display_data"
    }
   ],
   "source": [
    "# Rough work for deciding epsilon decay rate\n",
    "eps = []\n",
    "ep_o = 1.0\n",
    "ep_N = 0.01\n",
    "eta = 0.5\n",
    "N = 4000000\n",
    "e = ep_o\n",
    "\n",
    "for i in range(N):\n",
    "    e = get_epsilon(e, i, N, 0.75, ep_N, ep_o, eta)\n",
    "    eps.append(e)\n",
    "\n",
    "plt.plot(eps)\n",
    "plt.grid(True, linestyle='--', linewidth=0.5, color='gray', alpha=0.7)\n",
    "plt.xlabel('Episodes')\n",
    "plt.ylabel('$\\epsilon$ value')\n",
    "plt.savefig('my_plot.png')"
   ]
  },
  {
   "cell_type": "code",
   "execution_count": 6,
   "metadata": {
    "id": "N4ZfhcYUApxT"
   },
   "outputs": [],
   "source": [
    "# Read Q-table stored in the directory\n",
    "Q_table = read_file(Q_path)\n",
    "\n",
    "# Compute policy for player 1\n",
    "policy_1 = get_policy_player_1(Q_table)\n",
    "\n",
    "# Compute policy for player 2\n",
    "policy_2 = get_policy_player_2(Q_table)\n",
    "\n",
    "# Save the policy tables in directory\n",
    "write_file(policy_1_path, policy_1)\n",
    "write_file(policy_2_path, policy_2)"
   ]
  },
  {
   "cell_type": "code",
   "execution_count": 7,
   "metadata": {
    "colab": {
     "base_uri": "https://localhost:8080/"
    },
    "id": "6iacaU9FXp8x",
    "outputId": "59ce99a2-cda9-4705-807a-a71bc334d19a"
   },
   "outputs": [
    {
     "name": "stdout",
     "output_type": "stream",
     "text": [
      "7962087 4072733 3889354\n"
     ]
    }
   ],
   "source": [
    "print(len(Q_table), len(policy_1), len(policy_2))"
   ]
  },
  {
   "cell_type": "code",
   "execution_count": 8,
   "metadata": {
    "id": "kDjr23IE-tAF"
   },
   "outputs": [],
   "source": [
    "def play_one_game(policy_player1, policy_player2):\n",
    "    tictactoe = TicTacToe()\n",
    "    terminated = 0\n",
    "    board = [[\" \" for _ in range(4)] for _ in range(4)]\n",
    "\n",
    "    for i in range(8):\n",
    "        for turn in [-1, 1]:\n",
    "            action = 0\n",
    "            # Uncomment this if you want to see the board\n",
    "            # tictactoe.print_board()\n",
    "\n",
    "            if turn == -1:\n",
    "                if tuple(map(tuple, board)) not in policy_player1:\n",
    "                    action = rand_policy(board)\n",
    "                else:\n",
    "                    aciton = policy_player1[tuple(map(tuple, board))]\n",
    "            else:\n",
    "                if tuple(map(tuple, board)) not in policy_player2:\n",
    "                    action = rand_policy(board)\n",
    "                else:\n",
    "                    action = policy_player2[tuple(map(tuple, board))]\n",
    "\n",
    "            board, player, terminated, reward = tictactoe.step(action)\n",
    "\n",
    "            if terminated:\n",
    "                break\n",
    "\n",
    "    return reward # This is the player who won"
   ]
  },
  {
   "cell_type": "code",
   "execution_count": 9,
   "metadata": {
    "id": "We5tAkes-tAF"
   },
   "outputs": [],
   "source": [
    "def run_alternating_games(games=10):\n",
    "    results = []\n",
    "    for i in range(games):\n",
    "        for j in range(2):\n",
    "            if j==0:\n",
    "                winner = play_one_game(policy_1, policy_2)\n",
    "\n",
    "                match winner:\n",
    "                    case -1:\n",
    "                        results.append(1)\n",
    "                    case 1:\n",
    "                        results.append(2)\n",
    "                    case 0:\n",
    "                        results.append(0)\n",
    "\n",
    "            if j==1:\n",
    "                winner = play_one_game(policy_2, policy_1)\n",
    "\n",
    "                match winner:\n",
    "                    case -1:\n",
    "                        results.append(2)\n",
    "                    case 1:\n",
    "                        results.append(1)\n",
    "                    case 0:\n",
    "                        results.append(0)\n",
    "\n",
    "    return results"
   ]
  },
  {
   "cell_type": "code",
   "execution_count": 30,
   "metadata": {
    "colab": {
     "base_uri": "https://localhost:8080/"
    },
    "id": "M7byK1ic-tAF",
    "outputId": "501655fb-7f7c-4588-9065-f8d346c78275"
   },
   "outputs": [
    {
     "name": "stdout",
     "output_type": "stream",
     "text": [
      "Draws:  1014\n",
      "Player 1 Wins: 402\n",
      "Player 2 Wins: 584\n"
     ]
    }
   ],
   "source": [
    "results = run_alternating_games(1000)\n",
    "print(\"Draws: \", results.count(0))\n",
    "print(\"Player 1 Wins:\", results.count(1))\n",
    "print(\"Player 2 Wins:\", results.count(2))"
   ]
  }
 ],
 "metadata": {
  "colab": {
   "provenance": []
  },
  "kernelspec": {
   "display_name": "Python 3 (ipykernel)",
   "language": "python",
   "name": "python3"
  },
  "language_info": {
   "codemirror_mode": {
    "name": "ipython",
    "version": 3
   },
   "file_extension": ".py",
   "mimetype": "text/x-python",
   "name": "python",
   "nbconvert_exporter": "python",
   "pygments_lexer": "ipython3",
   "version": "3.11.5"
  }
 },
 "nbformat": 4,
 "nbformat_minor": 1
}
